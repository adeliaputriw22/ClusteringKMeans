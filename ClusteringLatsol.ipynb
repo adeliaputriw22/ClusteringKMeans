{
  "nbformat": 4,
  "nbformat_minor": 0,
  "metadata": {
    "colab": {
      "provenance": []
    },
    "kernelspec": {
      "name": "python3",
      "display_name": "Python 3"
    },
    "language_info": {
      "name": "python"
    }
  },
  "cells": [
    {
      "cell_type": "code",
      "execution_count": 20,
      "metadata": {
        "id": "nHY8Wg0JC6MI"
      },
      "outputs": [],
      "source": [
        "# Import library yang dibutuhkan\n",
        "import math\n",
        "import matplotlib.pyplot as plt\n"
      ]
    },
    {
      "cell_type": "code",
      "source": [
        "# Fungsi untuk menghitung jarak antara dua titik\n",
        "def hitung_jarak(p1, p2):\n",
        "    return math.sqrt((p1[0] - p2[0])**2 + (p1[1] - p2[1])**2)"
      ],
      "metadata": {
        "id": "PkYDsApbGKLe"
      },
      "execution_count": 21,
      "outputs": []
    },
    {
      "cell_type": "code",
      "source": [
        "# Fungsi untuk melakukan K-means clustering\n",
        "def k_means_clustering(data, centers, iterations):\n",
        "    for _ in range(iterations):\n",
        "        klaster1 = []\n",
        "        klaster2 = []\n",
        "\n",
        "        # Hitung jarak setiap titik data ke kedua titik pusat klaster\n",
        "        for point in data:\n",
        "            jarak_C1 = hitung_jarak(point, centers[0])\n",
        "            jarak_C2 = hitung_jarak(point, centers[1])\n",
        "\n",
        "            # Tentukan klaster berdasarkan jarak terdekat\n",
        "            if jarak_C1 < jarak_C2:\n",
        "                klaster1.append(point)\n",
        "            else:\n",
        "                klaster2.append(point)\n",
        "\n",
        "        # Hitung ulang titik pusat klaster\n",
        "        centers[0] = (sum(p[0] for p in klaster1) / len(klaster1), sum(p[1] for p in klaster1) / len(klaster1))\n",
        "        centers[1] = (sum(p[0] for p in klaster2) / len(klaster2), sum(p[1] for p in klaster2) / len(klaster2))\n",
        "\n",
        "    return klaster1, klaster2, centers"
      ],
      "metadata": {
        "id": "6myfp-JIGOTd"
      },
      "execution_count": 22,
      "outputs": []
    },
    {
      "cell_type": "code",
      "source": [
        "# Titik pusat klaster awal\n",
        "C1 = (3, 4)\n",
        "C2 = (6, 4)"
      ],
      "metadata": {
        "id": "V0u_oZW2GTFb"
      },
      "execution_count": 23,
      "outputs": []
    },
    {
      "cell_type": "code",
      "source": [
        "# Data titik\n",
        "data = [(1, 4.5), (3, 6.5), (4, 4.5), (7.5, 3.2), (6, 2.3), (2.5, 3.8), (5, 5.5)]"
      ],
      "metadata": {
        "id": "zrgU-GisGk9G"
      },
      "execution_count": 24,
      "outputs": []
    },
    {
      "cell_type": "code",
      "source": [
        "# Tentukan jumlah iterasi\n",
        "iterations = 5"
      ],
      "metadata": {
        "id": "qxpzpHaWGptR"
      },
      "execution_count": 25,
      "outputs": []
    },
    {
      "cell_type": "code",
      "source": [
        "# Lakukan K-means clustering\n",
        "klaster1, klaster2, centers = k_means_clustering(data, [C1, C2], iterations)"
      ],
      "metadata": {
        "id": "BrGHtK8BG7H0"
      },
      "execution_count": 26,
      "outputs": []
    },
    {
      "cell_type": "code",
      "source": [
        "# Tampilkan hasil klaster\n",
        "print(\"Klaster 1:\", klaster1)\n",
        "print(\"Klaster 2:\", klaster2)"
      ],
      "metadata": {
        "colab": {
          "base_uri": "https://localhost:8080/"
        },
        "id": "WFprf9xpHFJ2",
        "outputId": "42256670-b589-4d8b-a3dd-c52c72e758e0"
      },
      "execution_count": 27,
      "outputs": [
        {
          "output_type": "stream",
          "name": "stdout",
          "text": [
            "Klaster 1: [(1, 4.5), (3, 6.5), (4, 4.5), (2.5, 3.8)]\n",
            "Klaster 2: [(7.5, 3.2), (6, 2.3), (5, 5.5)]\n"
          ]
        }
      ]
    },
    {
      "cell_type": "code",
      "source": [
        "# Visualisasi data\n",
        "x1 = [point[0] for point in klaster1]\n",
        "y1 = [point[1] for point in klaster1]\n",
        "\n",
        "x2 = [point[0] for point in klaster2]\n",
        "y2 = [point[1] for point in klaster2]\n",
        "\n",
        "plt.scatter(x1, y1, color='r', label='Klaster 1')\n",
        "plt.scatter(x2, y2, color='b', label='Klaster 2')\n",
        "plt.scatter(centers[0][0], centers[0][1], color='g', marker='*', s=200, label='Titik Pusat C1')\n",
        "plt.scatter(centers[1][0], centers[1][1], color='y', marker='*', s=200, label='Titik Pusat C2')\n",
        "\n",
        "plt.xlabel('X')\n",
        "plt.ylabel('Y')\n",
        "plt.title('K-means Clustering')\n",
        "plt.legend()\n",
        "plt.show()"
      ],
      "metadata": {
        "colab": {
          "base_uri": "https://localhost:8080/",
          "height": 472
        },
        "id": "hhrE3iioHKkC",
        "outputId": "4559909e-28dc-498a-95df-3e1923a69305"
      },
      "execution_count": 28,
      "outputs": [
        {
          "output_type": "display_data",
          "data": {
            "text/plain": [
              "<Figure size 640x480 with 1 Axes>"
            ],
            "image/png": "[encoded data removed]"
          },
          "metadata": {}
        }
      ]
    }
  ]
}